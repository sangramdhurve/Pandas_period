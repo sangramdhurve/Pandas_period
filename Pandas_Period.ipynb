{
  "nbformat": 4,
  "nbformat_minor": 0,
  "metadata": {
    "colab": {
      "name": "Pandas_Period.ipynb",
      "provenance": [],
      "authorship_tag": "ABX9TyNywDAGzMsX9a/kdF+9SAPB",
      "include_colab_link": true
    },
    "kernelspec": {
      "name": "python3",
      "display_name": "Python 3"
    },
    "language_info": {
      "name": "python"
    }
  },
  "cells": [
    {
      "cell_type": "markdown",
      "metadata": {
        "id": "view-in-github",
        "colab_type": "text"
      },
      "source": [
        "<a href=\"https://colab.research.google.com/github/sangramdhurve/Pandas_period/blob/main/Pandas_Period.ipynb\" target=\"_parent\"><img src=\"https://colab.research.google.com/assets/colab-badge.svg\" alt=\"Open In Colab\"/></a>"
      ]
    },
    {
      "cell_type": "markdown",
      "source": [
        "#**Different types of 'Pandas.Period' Method**"
      ],
      "metadata": {
        "id": "4U-L9zGkRH0X"
      }
    },
    {
      "cell_type": "code",
      "source": [
        "import pandas as pd\n",
        "import numpy as np"
      ],
      "metadata": {
        "id": "ebpRY56uQUea"
      },
      "execution_count": null,
      "outputs": []
    },
    {
      "cell_type": "code",
      "source": [
        "periods = [pd.Period('2014-01'), pd.Period('2014-02'),\n",
        "pd.Period('2014-03')]\n",
        "ts_data = pd.Series(np.random.randn(3), periods)\n",
        "type(ts_data.index)"
      ],
      "metadata": {
        "colab": {
          "base_uri": "https://localhost:8080/"
        },
        "id": "KaR3TbxuYmZ4",
        "outputId": "8e99b013-de36-4d3c-f4a2-13bf1bb1e9f3"
      },
      "execution_count": null,
      "outputs": [
        {
          "output_type": "execute_result",
          "data": {
            "text/plain": [
              "pandas.core.indexes.period.PeriodIndex"
            ]
          },
          "metadata": {},
          "execution_count": 2
        }
      ]
    },
    {
      "cell_type": "markdown",
      "source": [
        "**Get day of the month that a Period falls on**"
      ],
      "metadata": {
        "id": "s8-4le9dSg4D"
      }
    },
    {
      "cell_type": "code",
      "execution_count": null,
      "metadata": {
        "colab": {
          "base_uri": "https://localhost:8080/"
        },
        "id": "th4_zjUTP4sB",
        "outputId": "b5efbfe4-a11e-46b0-e023-df697c29aefb"
      },
      "outputs": [
        {
          "output_type": "execute_result",
          "data": {
            "text/plain": [
              "Period('2018-03-11 00:00', 'H')"
            ]
          },
          "metadata": {},
          "execution_count": 3
        }
      ],
      "source": [
        "p = pd.Period(\"2018-03-11\", freq='H')\n",
        "p"
      ]
    },
    {
      "cell_type": "markdown",
      "source": [
        "For periods that span over multiple days, the day at the beginning of the period is returned."
      ],
      "metadata": {
        "id": "_K0iNkHlSjjv"
      }
    },
    {
      "cell_type": "code",
      "source": [
        "per = pd.Period('2017-12-31 22:00', '4H')\n",
        "per.day_of_week"
      ],
      "metadata": {
        "colab": {
          "base_uri": "https://localhost:8080/"
        },
        "id": "4NqQzk6XQf4h",
        "outputId": "588daf4d-a536-4081-d11a-1e2778333dd2"
      },
      "execution_count": null,
      "outputs": [
        {
          "output_type": "execute_result",
          "data": {
            "text/plain": [
              "6"
            ]
          },
          "metadata": {},
          "execution_count": 4
        }
      ]
    },
    {
      "cell_type": "markdown",
      "source": [
        "the day at the beginning of the period is returned."
      ],
      "metadata": {
        "id": "hNocGMpxTbnT"
      }
    },
    {
      "cell_type": "code",
      "source": [
        "per.start_time.day_of_week"
      ],
      "metadata": {
        "colab": {
          "base_uri": "https://localhost:8080/"
        },
        "id": "CBdYqb86TKVI",
        "outputId": "f6a4b869-11b0-44f0-839c-fca4164476b0"
      },
      "execution_count": null,
      "outputs": [
        {
          "output_type": "execute_result",
          "data": {
            "text/plain": [
              "6"
            ]
          },
          "metadata": {},
          "execution_count": 5
        }
      ]
    },
    {
      "cell_type": "markdown",
      "source": [
        "For periods with a frequency higher than days, the last day of the period is returned."
      ],
      "metadata": {
        "id": "ZrnWNLRgTgf4"
      }
    },
    {
      "cell_type": "code",
      "source": [
        "per.end_time.day_of_week"
      ],
      "metadata": {
        "colab": {
          "base_uri": "https://localhost:8080/"
        },
        "id": "9asOdtKITACc",
        "outputId": "8701aad9-1ba1-4158-f4cb-312e0bc1f8da"
      },
      "execution_count": null,
      "outputs": [
        {
          "output_type": "execute_result",
          "data": {
            "text/plain": [
              "0"
            ]
          },
          "metadata": {},
          "execution_count": 6
        }
      ]
    },
    {
      "cell_type": "markdown",
      "source": [
        "This attribute returns the day of the year on which the particular date occurs. The return value ranges between 1 to 365 for regular years and 1 to 366 for leap years."
      ],
      "metadata": {
        "id": "JnWFjfpTTryg"
      }
    },
    {
      "cell_type": "code",
      "source": [
        "period = pd.Period(\"2015-10-23\", freq='H')\n",
        "period.day_of_year"
      ],
      "metadata": {
        "colab": {
          "base_uri": "https://localhost:8080/"
        },
        "id": "_C8q_ewrTX3Y",
        "outputId": "7f79b716-6d82-4729-f489-db20189b5a61"
      },
      "execution_count": null,
      "outputs": [
        {
          "output_type": "execute_result",
          "data": {
            "text/plain": [
              "296"
            ]
          },
          "metadata": {},
          "execution_count": 7
        }
      ]
    },
    {
      "cell_type": "code",
      "source": [
        "period = pd.Period(\"2012-12-31\", freq='D')\n",
        "period.day_of_year"
      ],
      "metadata": {
        "colab": {
          "base_uri": "https://localhost:8080/"
        },
        "id": "fbbdtogRT-pP",
        "outputId": "e5d63ef8-bcbc-438b-ce0f-673550e70b73"
      },
      "execution_count": null,
      "outputs": [
        {
          "output_type": "execute_result",
          "data": {
            "text/plain": [
              "366"
            ]
          },
          "metadata": {},
          "execution_count": 8
        }
      ]
    },
    {
      "cell_type": "code",
      "source": [
        "period = pd.Period(\"2013-01-01\", freq='D')\n",
        "period.day_of_year"
      ],
      "metadata": {
        "colab": {
          "base_uri": "https://localhost:8080/"
        },
        "id": "Xz4XnC1ST8ko",
        "outputId": "a46d347e-dfb6-4d20-f169-571a07e951a7"
      },
      "execution_count": null,
      "outputs": [
        {
          "output_type": "execute_result",
          "data": {
            "text/plain": [
              "1"
            ]
          },
          "metadata": {},
          "execution_count": 9
        }
      ]
    },
    {
      "cell_type": "markdown",
      "source": [
        "Get the total number of days in the month that this period falls on."
      ],
      "metadata": {
        "id": "YYhAUjjLUzXA"
      }
    },
    {
      "cell_type": "code",
      "source": [
        "p = pd.Period('2018-2-17')\n",
        "p.days_in_month"
      ],
      "metadata": {
        "colab": {
          "base_uri": "https://localhost:8080/"
        },
        "id": "YcdOIktMUz-8",
        "outputId": "f1065daa-c6c8-4387-8d15-b4fdab2cdd13"
      },
      "execution_count": null,
      "outputs": [
        {
          "output_type": "execute_result",
          "data": {
            "text/plain": [
              "28"
            ]
          },
          "metadata": {},
          "execution_count": 10
        }
      ]
    },
    {
      "cell_type": "code",
      "source": [
        "pd.Period('2018-03-01').days_in_month"
      ],
      "metadata": {
        "colab": {
          "base_uri": "https://localhost:8080/"
        },
        "id": "pvDGP_JfU4cM",
        "outputId": "14c6f062-c586-4fc6-ccd2-f7f56f8d1d2a"
      },
      "execution_count": null,
      "outputs": [
        {
          "output_type": "execute_result",
          "data": {
            "text/plain": [
              "31"
            ]
          },
          "metadata": {},
          "execution_count": 11
        }
      ]
    },
    {
      "cell_type": "markdown",
      "source": [
        "Handles the leap year case as well:"
      ],
      "metadata": {
        "id": "-DGvT1nqU-Ly"
      }
    },
    {
      "cell_type": "code",
      "source": [
        "p = pd.Period('2016-2-17')\n",
        "p.days_in_month"
      ],
      "metadata": {
        "colab": {
          "base_uri": "https://localhost:8080/"
        },
        "id": "iLnjRzgzU94w",
        "outputId": "44039337-d7e8-471c-dcb8-047dfdce0407"
      },
      "execution_count": null,
      "outputs": [
        {
          "output_type": "execute_result",
          "data": {
            "text/plain": [
              "29"
            ]
          },
          "metadata": {},
          "execution_count": 12
        }
      ]
    },
    {
      "cell_type": "markdown",
      "source": [
        "Get the total number of days of the month that the Period falls in."
      ],
      "metadata": {
        "id": "u-brM9mtVKF6"
      }
    },
    {
      "cell_type": "code",
      "source": [
        "p = pd.Period(\"2018-03-11\", freq='H')\n",
        "p.daysinmonth"
      ],
      "metadata": {
        "colab": {
          "base_uri": "https://localhost:8080/"
        },
        "id": "c9yJGdLCU7kI",
        "outputId": "8b24dedd-16e0-4895-b0c6-0ea1bb97a81e"
      },
      "execution_count": null,
      "outputs": [
        {
          "output_type": "execute_result",
          "data": {
            "text/plain": [
              "31"
            ]
          },
          "metadata": {},
          "execution_count": 13
        }
      ]
    },
    {
      "cell_type": "markdown",
      "source": [
        "Get the Timestamp for the start of the period."
      ],
      "metadata": {
        "id": "KHtOpVjyVNwc"
      }
    },
    {
      "cell_type": "code",
      "source": [
        "period = pd.Period('2012-1-1', freq='D')\n",
        "period"
      ],
      "metadata": {
        "colab": {
          "base_uri": "https://localhost:8080/"
        },
        "id": "C3Po4LM9UGR-",
        "outputId": "b2d96d93-3253-4ab5-dacb-f6fca36d777b"
      },
      "execution_count": null,
      "outputs": [
        {
          "output_type": "execute_result",
          "data": {
            "text/plain": [
              "Period('2012-01-01', 'D')"
            ]
          },
          "metadata": {},
          "execution_count": 14
        }
      ]
    },
    {
      "cell_type": "code",
      "source": [
        "period.start_time"
      ],
      "metadata": {
        "colab": {
          "base_uri": "https://localhost:8080/"
        },
        "id": "yobFMCy8Velo",
        "outputId": "d6e56d62-ef3c-4c40-e53e-a50d84f3bfdb"
      },
      "execution_count": null,
      "outputs": [
        {
          "output_type": "execute_result",
          "data": {
            "text/plain": [
              "Timestamp('2012-01-01 00:00:00')"
            ]
          },
          "metadata": {},
          "execution_count": 15
        }
      ]
    },
    {
      "cell_type": "code",
      "source": [
        "period.end_time"
      ],
      "metadata": {
        "colab": {
          "base_uri": "https://localhost:8080/"
        },
        "id": "UKWXri6IVh3n",
        "outputId": "5d1804e9-8300-4f2b-e7d8-a41987c3698a"
      },
      "execution_count": null,
      "outputs": [
        {
          "output_type": "execute_result",
          "data": {
            "text/plain": [
              "Timestamp('2012-01-01 23:59:59.999999999')"
            ]
          },
          "metadata": {},
          "execution_count": 16
        }
      ]
    },
    {
      "cell_type": "markdown",
      "source": [
        "Get the week of the year on the given Period."
      ],
      "metadata": {
        "id": "Y0kWPi2pVk8G"
      }
    },
    {
      "cell_type": "code",
      "source": [
        "p = pd.Period(\"2018-03-11\", \"H\")\n",
        "p.week"
      ],
      "metadata": {
        "colab": {
          "base_uri": "https://localhost:8080/"
        },
        "id": "Pr1wxSZjVrh3",
        "outputId": "7ec739bc-90d4-4080-d286-18bccbc64430"
      },
      "execution_count": null,
      "outputs": [
        {
          "output_type": "execute_result",
          "data": {
            "text/plain": [
              "10"
            ]
          },
          "metadata": {},
          "execution_count": 17
        }
      ]
    },
    {
      "cell_type": "code",
      "source": [
        "p = pd.Period(\"2018-02-01\", \"D\")\n",
        "p.week"
      ],
      "metadata": {
        "colab": {
          "base_uri": "https://localhost:8080/"
        },
        "id": "7oCoqaBfVkHI",
        "outputId": "9a48dfb6-c170-4cc1-ef6b-7fe5651dd5f7"
      },
      "execution_count": null,
      "outputs": [
        {
          "output_type": "execute_result",
          "data": {
            "text/plain": [
              "5"
            ]
          },
          "metadata": {},
          "execution_count": 18
        }
      ]
    },
    {
      "cell_type": "code",
      "source": [
        "p = pd.Period(\"2018-01-06\", \"D\")\n",
        "p.week"
      ],
      "metadata": {
        "colab": {
          "base_uri": "https://localhost:8080/"
        },
        "id": "j40DB6lrVvgv",
        "outputId": "bc27b5d8-b012-46f0-adfb-51e0aff25250"
      },
      "execution_count": null,
      "outputs": [
        {
          "output_type": "execute_result",
          "data": {
            "text/plain": [
              "1"
            ]
          },
          "metadata": {},
          "execution_count": 19
        }
      ]
    },
    {
      "cell_type": "markdown",
      "source": [
        "Returns the string representation of the Period, depending on the selected fmt. fmt must be a string containing one or several directives. The method recognizes the same directives as the time.strftime() function of the standard Python distribution, as well as the specific additional directives %f, %F, %q. (formatting & docs originally from scikits.timeries)."
      ],
      "metadata": {
        "id": "4PXR6Y85VzTX"
      }
    },
    {
      "cell_type": "code",
      "source": [
        "a = pd.Period(freq='Q-JUL', year=2006, quarter=1)\n",
        "a.strftime('%F-Q%q')"
      ],
      "metadata": {
        "colab": {
          "base_uri": "https://localhost:8080/",
          "height": 36
        },
        "id": "X2f4Vi7mWhcP",
        "outputId": "0861703d-428d-498d-8192-ecf46189899c"
      },
      "execution_count": null,
      "outputs": [
        {
          "output_type": "execute_result",
          "data": {
            "text/plain": [
              "'2006-Q1'"
            ],
            "application/vnd.google.colaboratory.intrinsic+json": {
              "type": "string"
            }
          },
          "metadata": {},
          "execution_count": 20
        }
      ]
    },
    {
      "cell_type": "code",
      "source": [
        "# Output the last month in the quarter of this date\n",
        "a.strftime('%b-%Y')"
      ],
      "metadata": {
        "colab": {
          "base_uri": "https://localhost:8080/",
          "height": 36
        },
        "id": "n_aFAkJrW-yM",
        "outputId": "8e89e5bd-0dbc-48ae-c256-69589d977f15"
      },
      "execution_count": null,
      "outputs": [
        {
          "output_type": "execute_result",
          "data": {
            "text/plain": [
              "'Oct-2005'"
            ],
            "application/vnd.google.colaboratory.intrinsic+json": {
              "type": "string"
            }
          },
          "metadata": {},
          "execution_count": 21
        }
      ]
    },
    {
      "cell_type": "code",
      "source": [
        "a = pd.Period(freq='D', year=2001, month=1, day=1)\n",
        "a.strftime('%d-%b-%Y')"
      ],
      "metadata": {
        "colab": {
          "base_uri": "https://localhost:8080/",
          "height": 36
        },
        "id": "b9L5pt3sXDE0",
        "outputId": "95297993-5ca7-47d7-b67f-f903547299e1"
      },
      "execution_count": null,
      "outputs": [
        {
          "output_type": "execute_result",
          "data": {
            "text/plain": [
              "'01-Jan-2001'"
            ],
            "application/vnd.google.colaboratory.intrinsic+json": {
              "type": "string"
            }
          },
          "metadata": {},
          "execution_count": 22
        }
      ]
    },
    {
      "cell_type": "code",
      "source": [
        "a.strftime('%b. %d, %Y was a %A')"
      ],
      "metadata": {
        "colab": {
          "base_uri": "https://localhost:8080/",
          "height": 36
        },
        "id": "Igc7VYM_XFkG",
        "outputId": "1cc3a0f8-6038-462c-9e47-e84f567bcc43"
      },
      "execution_count": null,
      "outputs": [
        {
          "output_type": "execute_result",
          "data": {
            "text/plain": [
              "'Jan. 01, 2001 was a Monday'"
            ],
            "application/vnd.google.colaboratory.intrinsic+json": {
              "type": "string"
            }
          },
          "metadata": {},
          "execution_count": 23
        }
      ]
    },
    {
      "cell_type": "markdown",
      "source": [
        "An ExtensionDtype for Period data."
      ],
      "metadata": {
        "id": "Lws0wzAkXb-8"
      }
    },
    {
      "cell_type": "code",
      "source": [
        "pd.PeriodDtype(freq='D')"
      ],
      "metadata": {
        "colab": {
          "base_uri": "https://localhost:8080/"
        },
        "id": "lj93fl3tWlZs",
        "outputId": "40d92a57-95b3-4a29-f48f-37abf8fbfe96"
      },
      "execution_count": null,
      "outputs": [
        {
          "output_type": "execute_result",
          "data": {
            "text/plain": [
              "period[D]"
            ]
          },
          "metadata": {},
          "execution_count": 24
        }
      ]
    },
    {
      "cell_type": "code",
      "source": [
        "pd.PeriodDtype(freq=pd.offsets.MonthEnd())"
      ],
      "metadata": {
        "colab": {
          "base_uri": "https://localhost:8080/"
        },
        "id": "WLDtQGxaXefd",
        "outputId": "b62f61d8-b0fb-4886-d067-8dd3d51cbd7c"
      },
      "execution_count": null,
      "outputs": [
        {
          "output_type": "execute_result",
          "data": {
            "text/plain": [
              "period[M]"
            ]
          },
          "metadata": {},
          "execution_count": 25
        }
      ]
    },
    {
      "cell_type": "markdown",
      "source": [
        "#Thank you\n"
      ],
      "metadata": {
        "id": "u7SkSl4PZCMP"
      }
    }
  ]
}